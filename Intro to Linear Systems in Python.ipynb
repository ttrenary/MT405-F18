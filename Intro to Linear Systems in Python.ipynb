{
  "nbformat": 4,
  "nbformat_minor": 0,
  "metadata": {
    "colab": {
      "name": "Untitled1.ipynb",
      "version": "0.3.2",
      "provenance": [],
      "collapsed_sections": [],
      "include_colab_link": true
    },
    "kernelspec": {
      "name": "python3",
      "display_name": "Python 3"
    }
  },
  "cells": [
    {
      "cell_type": "markdown",
      "metadata": {
        "id": "view-in-github",
        "colab_type": "text"
      },
      "source": [
        "[View in Colaboratory](https://colab.research.google.com/github/ttrenary/MT405-F18/blob/master/Intro%20to%20Linear%20Systems%20in%20Python.ipynb)"
      ]
    },
    {
      "metadata": {
        "id": "EkrRLWbAmOMl",
        "colab_type": "text"
      },
      "cell_type": "markdown",
      "source": [
        "1. Solve the system of equations using np.linalg.inv(A).dot(b). You will need to define the matrix A and the vector b using the numpy array command. Then discuss the validity of your answer by solving the system exactly by hand and considering the double-precision arithmetic used by Python.\n",
        "\n",
        "x + 2y +  3z  = 3\n",
        "\n",
        "2x + 3y + 5z = 4\n",
        "\n",
        "3x + 4y + 5z = 5\n",
        "\n"
      ]
    },
    {
      "metadata": {
        "id": "XFrCty1Dm9mG",
        "colab_type": "code",
        "colab": {}
      },
      "cell_type": "code",
      "source": [
        "import numpy as np\n",
        "\n",
        "\n"
      ],
      "execution_count": 0,
      "outputs": []
    },
    {
      "metadata": {
        "id": "pghaM9_fpyfj",
        "colab_type": "text"
      },
      "cell_type": "markdown",
      "source": [
        "  2. Consider the following Python code and answer the following questions: \n",
        "  \n",
        "\n",
        "a.   Notice that the output of function $A$ is a matrix. What is the exact form of this matrix in terms of epsilon? What is the value of $A(1)$? $A(-1)$? $A(0)$?\n",
        "b.  What is the exact solution (in terms of $\\epsilon$) to:   $A(\\epsilon) x = b$ where $A(\\epsilon)$ and $b$ are as defined in the Python code below?\n",
        "c.  What is the determinant of $A(\\epsilon)$?\n",
        "d.  Explain exactly what is happening in the for loop in the code below?\n",
        "e.  Comment on the accuracy of the entire process and solution x as the loop progresses? If something's not correct/exact, what should the exact computation/solution be?\n",
        "\n",
        "\n"
      ]
    },
    {
      "metadata": {
        "id": "Q9pPiD9MqXGq",
        "colab_type": "code",
        "colab": {}
      },
      "cell_type": "code",
      "source": [
        "import numpy as np\n",
        "\n",
        "def A(epsilon):\n",
        " return np.array([[1,2],[1,2+epsilon]])\n",
        "     \n",
        "b = np.array([3,-2])  \n",
        "  \n",
        "for i in (0.1, 0.01, 0.001, 1e-6, 1e-12):\n",
        "    x = np.linalg.inv(A(i)).dot(b)\n",
        "    print(\"When epsilon is \", i, \" the solution to A(epsilon) x = b is x=\", x)"
      ],
      "execution_count": 0,
      "outputs": []
    },
    {
      "metadata": {
        "id": "pu7S9utirQi5",
        "colab_type": "code",
        "colab": {}
      },
      "cell_type": "code",
      "source": [
        ""
      ],
      "execution_count": 0,
      "outputs": []
    }
  ]
}